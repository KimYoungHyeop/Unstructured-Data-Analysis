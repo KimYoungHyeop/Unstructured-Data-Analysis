{
  "nbformat": 4,
  "nbformat_minor": 0,
  "metadata": {
    "colab": {
      "name": "Text_Preprocessing_2.ipynb",
      "provenance": [],
      "collapsed_sections": []
    },
    "kernelspec": {
      "name": "python3",
      "display_name": "Python 3"
    },
    "language_info": {
      "name": "python"
    }
  },
  "cells": [
    {
      "cell_type": "markdown",
      "source": [
        "## <Is NLP Eazy? No!>"
      ],
      "metadata": {
        "id": "NNTR070naN7V"
      }
    },
    {
      "cell_type": "markdown",
      "source": [
        "### Why is NLP hard?\n",
        "- Difference to areas in Computer Science  \n",
        "Computer scientist are used to dealing with precise, closed, artificial structures   \n",
        "    - e.g., we build a \"mini-world\" for a database rather than attempting to model every aspect of the real world\n",
        "    - programming languages have a simple syntax (around 100 words ) and a precise semantic    \n",
        "\n",
        "  This approach does not work for natural language:\n",
        "  - tens of thousands of languages, with more than 100,000 words each\n",
        "  - complex syntax, many ambiguities, constantly changing and evolving\n",
        "\n",
        "  A corollary is that a TM system will never get it \"100% right\""
      ],
      "metadata": {
        "id": "_rv8xhnuaOce"
      }
    },
    {
      "cell_type": "markdown",
      "source": [
        "### Ambiguity of a natural language\n",
        "- Ambiguity apprears on every analysis level\n",
        "The classical examples:\n",
        "    - *He saw the man with the telescope.*\n",
        "    - *Time flies like an arrow. Fruit flies like a banana.*\n",
        "- And those are simple . . .  \n",
        "This does not get better with real-world sentences:\n",
        "    - *The board approved [its acquisition] [by Royal Trustco. Ltd.] [of Toronto] [for $27 a share] [at its monthly meeting].    \n",
        "    (cf. Manning & Schutze)*"
      ],
      "metadata": {
        "id": "e85B8LXeaOhO"
      }
    },
    {
      "cell_type": "markdown",
      "source": [
        "### Complex and subtle relationship between concepts in texts\n",
        "  - \"AOL merges with Time-Warner\"\n",
        "  - \"Time-Warner is bought by AOL\"\n",
        "\n",
        "위 두 문장은 사실상 의미론적으로 같은 문장인데 고전적인 방식인 BoW로 표현하게 되면 굉장히 다른 문장으로 표현이 됩니다. "
      ],
      "metadata": {
        "id": "5xi61jdeaOe3"
      }
    },
    {
      "cell_type": "markdown",
      "source": [
        "### Ambiguity and context sensitivity\n",
        "  - automobile = car = vehicle = Hyundai"
      ],
      "metadata": {
        "id": "eLAekdPBaOjY"
      }
    },
    {
      "cell_type": "markdown",
      "source": [
        ""
      ],
      "metadata": {
        "id": "LR1xCYJPaOln"
      }
    },
    {
      "cell_type": "markdown",
      "source": [
        ""
      ],
      "metadata": {
        "id": "zH20WaKnaOn7"
      }
    },
    {
      "cell_type": "markdown",
      "source": [
        ""
      ],
      "metadata": {
        "id": "lqJg9er3aOqP"
      }
    },
    {
      "cell_type": "markdown",
      "source": [
        ""
      ],
      "metadata": {
        "id": "aTrVI43MaOsl"
      }
    },
    {
      "cell_type": "markdown",
      "source": [
        ""
      ],
      "metadata": {
        "id": "dHkM-P7kaOu7"
      }
    },
    {
      "cell_type": "markdown",
      "source": [
        ""
      ],
      "metadata": {
        "id": "fsnFt_bWaOw9"
      }
    },
    {
      "cell_type": "markdown",
      "source": [
        ""
      ],
      "metadata": {
        "id": "Lt-yc43QaOzU"
      }
    },
    {
      "cell_type": "markdown",
      "source": [
        ""
      ],
      "metadata": {
        "id": "s6arcjaAaO1Z"
      }
    },
    {
      "cell_type": "markdown",
      "source": [
        ""
      ],
      "metadata": {
        "id": "BU9pqf48aO3e"
      }
    },
    {
      "cell_type": "code",
      "execution_count": null,
      "metadata": {
        "id": "epw-lP0DaFo7"
      },
      "outputs": [],
      "source": [
        ""
      ]
    }
  ]
}