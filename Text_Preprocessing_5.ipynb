{
  "nbformat": 4,
  "nbformat_minor": 0,
  "metadata": {
    "colab": {
      "name": "Text_Preprocessing_5.ipynb",
      "provenance": [],
      "collapsed_sections": []
    },
    "kernelspec": {
      "name": "python3",
      "display_name": "Python 3"
    },
    "language_info": {
      "name": "python"
    }
  },
  "cells": [
    {
      "cell_type": "markdown",
      "source": [
        "## < Lexical Analysis 2: Tokenization>"
      ],
      "metadata": {
        "id": "3sYY53J_glxx"
      }
    },
    {
      "cell_type": "markdown",
      "source": [
        "### Text is split into basic units called Tokens\n",
        "- word tokens, number tokens, space tokens, ...  \n"
      ],
      "metadata": {
        "id": "2XYf8eaXgnaL"
      }
    },
    {
      "cell_type": "markdown",
      "source": [
        "### Even tokenization can be difficult\n",
        "- Is John's sick one token or two?\n",
        "    - if one ➔ problems in parsing (where is the verb?)\n",
        "    - if two ➔ what do we do with John's house?\n",
        "- What to do with hyphens?\n",
        "    - database vs. data-base vs. data base\n",
        "- What to do with \"C++\", \"A/C\", \":)\", \"⋯\", \"ㅋㅋㅋㅋㅋㅋㅋㅋ\"?\n",
        "- Some languages do not use whitespace (e.g., Chinese)\n",
        "- Consistent tokenization is important for all later processing step."
      ],
      "metadata": {
        "id": "EDSNJgBBgndv"
      }
    },
    {
      "cell_type": "markdown",
      "source": [
        "## < Lexical Analysis 3: Morphological Analysis>"
      ],
      "metadata": {
        "id": "JpsaFJcFgnhd"
      }
    },
    {
      "cell_type": "markdown",
      "source": [
        "### Morphological Variants: Stemming and Lemmatization\n",
        "- Morphological Variants  \n",
        "Words are changed through a morphological process called inflection:\n",
        "    - typically indicates changes in case, gender, number, tense, etc.\n",
        "    - example *car ➔ cars, give ➔ gives, gave, given*   \n",
        "\n",
        " Goal: \"normalize\" words"
      ],
      "metadata": {
        "id": "tjTOaXxWgnj2"
      }
    },
    {
      "cell_type": "markdown",
      "source": [
        "- Stemming and Lemmatization   \n",
        "Two main approaces to normalization:   \n",
        " `Stemming` reduce words to a *base form*  \n",
        " `Lemmatization` reduce words to their *lemma*  \n",
        "\n",
        " Main difference: Stemming just finds **any** base form, which doesn't even need to be a word in the language! Lemmatization find the actual *root* of a word, but requires morphological analysis."
      ],
      "metadata": {
        "id": "zlJUP0D4gnm7"
      }
    },
    {
      "cell_type": "markdown",
      "source": [
        "### Stemming  \n",
        "Commonly used in Information Retrieval: \n",
        "- Can be achieved with rule-based algorithms, usually based on suffix-stripping\n",
        "- Standard algorithm for English: the *Porter* stemmer\n",
        "- Advantages: simple & fast\n",
        "- Disadvantages:\n",
        "    - Rules are language-dependant\n",
        "    - Can create words that do not exist in the language, e.g., computer ➔ *comput*\n",
        "    - Often reduces different words to the same stem e.g., army, arm ➔ *arm* stocks, stockings ➔ *stock*  \n",
        "- Stemming for German: German stemmer in the full-text search engine *Lucene, Snowball* stemmer with German rule file"
      ],
      "metadata": {
        "id": "tuAHfrlngnpW"
      }
    },
    {
      "cell_type": "markdown",
      "source": [
        "### Lemmatization\n",
        "Lemmatization is the process of deriving the base form, or *lemma*, of a word from one of its inflected forms. This requires a morphological analysis, which in turn typically requires a *lexicon*.\n",
        "- Advantages:\n",
        "    - identifies the *lemma* (root form), which is an actual word\n",
        "    - less errors than in stemming\n",
        "- Disadvantages:\n",
        "    - more complex than stemming, slower\n",
        "    - requires additional language-dependent resources\n",
        "- While stemming is good enough for Information Retrieval, Text Mining often requires lemmatization\n",
        "    - Semantics is more important (we need to distinguish an *army* and an *arm*!)\n",
        "    - Erros in low-level components can multiply when running downstream"
      ],
      "metadata": {
        "id": "TQ6CpPIignsC"
      }
    },
    {
      "cell_type": "markdown",
      "source": [
        "### Stemming vs. Lemmatization\n",
        "\n",
        "|Word|Stemming|Lemmatization|\n",
        "|------|---|---|\n",
        "|Love|Lov|Love|\n",
        "|Loves|Lov|Love|\n",
        "|Loved|Lov|Love|\n",
        "|Loving|Lov|Love|\n",
        "|Innovation|Innovat|Innovation|\n",
        "|Innovations|Innovat|Innovation|\n",
        "|Innovate|Innovat|Innovate|\n",
        "|Innovates|Innovat|Innovate|\n",
        "|Innovative|Innovat|Innovative|"
      ],
      "metadata": {
        "id": "cQJTsw9pgnvU"
      }
    },
    {
      "cell_type": "code",
      "execution_count": null,
      "metadata": {
        "id": "zLBcYuhMgjye"
      },
      "outputs": [],
      "source": [
        ""
      ]
    }
  ]
}