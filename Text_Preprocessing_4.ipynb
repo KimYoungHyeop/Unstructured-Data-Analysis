{
  "nbformat": 4,
  "nbformat_minor": 0,
  "metadata": {
    "colab": {
      "name": "Text_Preprocessing_4.ipynb",
      "provenance": [],
      "collapsed_sections": []
    },
    "kernelspec": {
      "name": "python3",
      "display_name": "Python 3"
    },
    "language_info": {
      "name": "python"
    }
  },
  "cells": [
    {
      "cell_type": "markdown",
      "source": [
        "## < Lexical Analysis >  \n"
      ],
      "metadata": {
        "id": "j5YAF234T1XC"
      }
    },
    {
      "cell_type": "markdown",
      "source": [
        "### Goals of lexical analysis\n",
        "- Convert a sequence of characters into a sequence of tokens, i.e., meaningful character strings.\n",
        "    - In natural language processing, **morpheme** is a basic unit\n",
        "    - In text mining, **word** is commonly used as a basic for analysis\n",
        "\n",
        "### Process of lexical analysis\n",
        "- Tokenizing\n",
        "- Part-of-Speech (POS) tagging\n",
        "- Additional analysis: named entity recognition (NER), noun phrase recognition, sentence split, chunking, etc."
      ],
      "metadata": {
        "id": "7aDykykWT16-"
      }
    },
    {
      "cell_type": "markdown",
      "source": [
        ""
      ],
      "metadata": {
        "id": "UWKzRbtkT19n"
      }
    },
    {
      "cell_type": "markdown",
      "source": [
        "### Examples of Linguistic Structure Analysis   \n",
        "\n",
        "언어의 구조적 예시에 관한 부분인데, 한 문장에 대해서 서로가 어떠한 관계를 가지고 있는지 보여주는 예시입니다."
      ],
      "metadata": {
        "id": "iI-ULWPkT2AL"
      }
    },
    {
      "cell_type": "markdown",
      "source": [
        "`Part of Speech:` Mrs.(**NNP**) Clinton(**NNP**) previously(**RB**) worked(**VBD**) for(**IN**) Mr.(**NNP**) Obama(**NNP**) ,(**,**) but(**CC**) she(**PRP**) is(**VBZ**) now(**RB**) distancing(**VBG**) herself(**PRP**) from(**IN**) him(**PRP**) .(**,**)  \n",
        "\n",
        "POS 태깅 같은 경우는 각각의 토큰 또는 단어들의 형태소를 판별해 주는 것입니다."
      ],
      "metadata": {
        "id": "ff9rZ7XYT2Cn"
      }
    },
    {
      "cell_type": "markdown",
      "source": [
        "`Named entity recognition:` Mrs. Clinton(**Person**) previously(**Date**) worked for Mr. Obama(**Person**) , but she is now(**Date**) distancing herself from him .  \n",
        "\n",
        "개체명 인식 같은 경우는 사람을 의미하는지 날짜를 의미하는 객체이다 혹은 토큰인지를 판단해 줍니다."
      ],
      "metadata": {
        "id": "zzV_b5EKT2FN"
      }
    },
    {
      "cell_type": "markdown",
      "source": [
        "`Co-reference:` (Mrs. Clinton)(**Mention**) previously worked for Mr. Obama(**Ment**) , but she(**M**) is now distancing herself(**Mention**) from him(**M**) .   \n",
        "\n",
        "Co-reference는 문장에서 대명사를 쓰는 경우에 Mrs.Clinton과 she라는 인물은 동일인물이다 또는 Mr. Obama와 him은 동일인물이다 이런식으로 문장 안에서 서로 다른 두 개의 표현이 혹은 객체들이 같은 것인지를 찾아주는 것이 목적입니다."
      ],
      "metadata": {
        "id": "gGM8r2ymT2HY"
      }
    },
    {
      "cell_type": "markdown",
      "source": [
        "`Basic dependencies:` Mrs.(**NNP**) Clinton(**NNP**) previously(**RB**) worked(**VBD**) for(**IN**) Mr.(**NNP**) Obama(**NNP**) ,(**,**) but(**CC**) she(**PRP**) is(**VBZ**) now(**RB**) distancing(**VBG**) herself(**PRP**) from(**IN**) him(**PRP**) .(**,**)  \n",
        "\n",
        "Basic dependencies같은 경우는 단어를 기준으로 해서 예를 들면 'worked'가 누가 일을 했느냐, 누구를 위해서 일을 했느냐 의존 구문에 대해서 분석을 하는 것을 말합니다.(관계 간 화살표는 편의상 생략했습니다!) "
      ],
      "metadata": {
        "id": "GIwcfV__T2Jt"
      }
    },
    {
      "cell_type": "markdown",
      "source": [
        "## < Lexical Analysis 1: Sentence Splitting>  "
      ],
      "metadata": {
        "id": "6RB96F2eT2MK"
      }
    },
    {
      "cell_type": "markdown",
      "source": [
        "### Sentence is very important in NLP, but it is **not critical** for some Text Mining tasks  \n",
        "- Mark Sentence Boundaries  \n",
        "Detects sentence units. Easy case:\n",
        "  - often, sentences end with \".\" , \"!\" , or \"?\"  \n",
        "\n",
        " Hard (or annoying) cases:\n",
        " - difficult when a \".\" do not indicate an EOS:  \n",
        "  \"MR. X\" , \"3.14\" , \"Y Corp.\", . . .  \n",
        " - we can detect common abbreviations (\"U.S.\"), but what if a sentence ends with one?  \n",
        "  \". . . announced today by the U.S. The . . . \n",
        " - Sentences can be nested (e.g., within quotes)  \n",
        "\n",
        "\n",
        "- Correct sentence boundary is important  \n",
        "for many downstream analysis tasks:\n",
        "  - POS-Taggers maximize probabilites of tags within a sentence\n",
        "  - Summarization systems rely on correct detection of sentence"
      ],
      "metadata": {
        "id": "ZRtVVBE3T2Rh"
      }
    },
    {
      "cell_type": "code",
      "execution_count": null,
      "metadata": {
        "id": "NalDPRxkT06t"
      },
      "outputs": [],
      "source": [
        ""
      ]
    }
  ]
}