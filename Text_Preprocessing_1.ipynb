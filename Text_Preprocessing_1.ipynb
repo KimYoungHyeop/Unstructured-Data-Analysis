{
  "nbformat": 4,
  "nbformat_minor": 0,
  "metadata": {
    "colab": {
      "name": "Text_Preprocessing_1.ipynb",
      "provenance": [],
      "collapsed_sections": []
    },
    "kernelspec": {
      "name": "python3",
      "display_name": "Python 3"
    },
    "language_info": {
      "name": "python"
    }
  },
  "cells": [
    {
      "cell_type": "markdown",
      "source": [
        "# Text Preprocessing"
      ],
      "metadata": {
        "id": "x0-fgmrfTXfH"
      }
    },
    {
      "cell_type": "markdown",
      "source": [
        "## < Natural Language Processing >  \n",
        "\n",
        "넓은 의미에서의 자연어 처리는 텍스트를 기반으로 하는 모든 분석 기법을 다 포함하지만, 좁은 의미에서의 자연어 처리는 어휘 분석, 문장 분석, 구문 분석 이런 언어적인 특징을 분석하는 것에 조금 더 초점을 두고 있습니다.\n",
        "\n",
        "- ### Natural language processing sequence   \n",
        "    - Speech analysis  \n",
        "     ➔ Morphological and lexical analysis   \n",
        "     ➔ Parsing   \n",
        "     ➔ Contextual reasoning  \n",
        "     ➔ Application reasoning and execution  \n",
        "     ➔ Utterance planning  \n",
        "     ➔ Syntactic realization  \n",
        "     ➔ Morphological realization   \n",
        "     ➔ Speech synthesis\n",
        "\n"
      ],
      "metadata": {
        "id": "v31TfPe__DFb"
      }
    },
    {
      "cell_type": "markdown",
      "source": [
        "- ### Classical categorization of NLP   \n",
        "    - #### Classical categorization   \n",
        "     To deal with the complexity of natural language, it is typically regarded on several levels (cf. Jurafsky & Martin):   \n",
        "        - `Phonology` the study of linguistic sounds\n",
        "        - `Morphology` the study of meaningful components of words\n",
        "        - `Syntax` the study of structural relationships between words\n",
        "        - `Semantics` the study of meaning\n",
        "        - `Pragmatics` the study of how language is used to accomplish goals\n",
        "        - `Discouras` the study of larger linguistic units \n",
        "      \n",
        "    - Importance for Text Mining  \n",
        "        - *Phonology* only concerns spoken language\n",
        "        - *Discourase*, *Pragmatics*, and even *Semantics* is still rarely used"
      ],
      "metadata": {
        "id": "cO9jtT9j_DH5"
      }
    },
    {
      "cell_type": "markdown",
      "source": [
        "- ### An example of NLP\n",
        "    - `Lexical Analysis` : A teacher come+s\n",
        "    - `Syntax Analysis` : (A teacher)$_{NP}$ (comes)$_{VP}$\n",
        "    - `Semantic Analysis` : exist(x, teacher(x), comes(x))\n",
        "    - `Pragmatic Analysis` : \"A teacher comes\" ➔ **Be quite!**"
      ],
      "metadata": {
        "id": "MpUzPxAn_DKI"
      }
    },
    {
      "cell_type": "markdown",
      "source": [
        ""
      ],
      "metadata": {
        "id": "toZ6OZzp_DMr"
      }
    },
    {
      "cell_type": "markdown",
      "source": [
        ""
      ],
      "metadata": {
        "id": "71EQAd-G_DPH"
      }
    },
    {
      "cell_type": "markdown",
      "source": [
        ""
      ],
      "metadata": {
        "id": "1ZiARmHH_DRr"
      }
    },
    {
      "cell_type": "markdown",
      "source": [
        ""
      ],
      "metadata": {
        "id": "szu7DyA4_DUQ"
      }
    },
    {
      "cell_type": "markdown",
      "source": [
        ""
      ],
      "metadata": {
        "id": "JAF5gjyr_DW1"
      }
    },
    {
      "cell_type": "markdown",
      "source": [
        ""
      ],
      "metadata": {
        "id": "zbr6kZUz_DZO"
      }
    },
    {
      "cell_type": "markdown",
      "source": [
        ""
      ],
      "metadata": {
        "id": "bIcyx88N_Dbu"
      }
    },
    {
      "cell_type": "markdown",
      "source": [
        ""
      ],
      "metadata": {
        "id": "1bbYWSww_DeR"
      }
    },
    {
      "cell_type": "markdown",
      "source": [
        ""
      ],
      "metadata": {
        "id": "Y_36tzpM_Dg1"
      }
    },
    {
      "cell_type": "markdown",
      "source": [
        ""
      ],
      "metadata": {
        "id": "4QGH50IF_DjG"
      }
    },
    {
      "cell_type": "markdown",
      "source": [
        ""
      ],
      "metadata": {
        "id": "z4QudhCB_Dls"
      }
    },
    {
      "cell_type": "markdown",
      "source": [
        ""
      ],
      "metadata": {
        "id": "ud4sEE0v_DoD"
      }
    },
    {
      "cell_type": "markdown",
      "source": [
        ""
      ],
      "metadata": {
        "id": "Iq9z8Pgk_Dqg"
      }
    },
    {
      "cell_type": "code",
      "execution_count": null,
      "metadata": {
        "id": "6oF65Bnp-8xo"
      },
      "outputs": [],
      "source": [
        ""
      ]
    }
  ]
}