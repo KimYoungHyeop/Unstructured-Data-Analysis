{
  "nbformat": 4,
  "nbformat_minor": 0,
  "metadata": {
    "colab": {
      "name": "Text_Preprocessing_6.ipynb",
      "provenance": [],
      "collapsed_sections": []
    },
    "kernelspec": {
      "name": "python3",
      "display_name": "Python 3"
    },
    "language_info": {
      "name": "python"
    }
  },
  "cells": [
    {
      "cell_type": "markdown",
      "source": [
        "## < Lexical Analysis 2: Part-of-Speech (POS) Tagging>"
      ],
      "metadata": {
        "id": "r-BE2sRKoLL1"
      }
    },
    {
      "cell_type": "markdown",
      "source": [
        "### Part-of-Speech (POS) Tagging\n",
        "- Given a **sentence X**, predict its **part of speech sequence Y**  \n",
        "    - Input: tokens that sentence may have ambiguity\n",
        "    - Output: most appropriate tag by considering its definition and contexts (relationship with adjacent and reated words in phrases, sentence, or paragraph)   \n",
        "\n",
        "- A type of \"structured\" prediction  \n",
        "EX) Natural**(JJ)** language**(NN)** processing**(NN)** **((-LRB-)**NLP**(NN)**)**(-RRB-)** is**(VBZ)** a**(DT)** field**(NN)** of**(IN)** computer**(NN)** science**(NN)**"
      ],
      "metadata": {
        "id": "yuRmEqWQoLuk"
      }
    },
    {
      "cell_type": "markdown",
      "source": [
        "### Different POS tags for the same token\n",
        "- I <U>love</U> you. ➞ \"love\" is a **verb**\n",
        "- All you need is <U>love</U>. ➞ \"love\" is **noun**"
      ],
      "metadata": {
        "id": "kgBuV9pNoLxW"
      }
    },
    {
      "cell_type": "markdown",
      "source": [
        "### POS Tagging\n",
        "A statistical POS Tagger scans tokens and assigns **POS Tags**.  \n",
        "*A black cat plays. . . ➞ A/DT black/JJ cat/NN plays/VB. . .*\n",
        "- relies on different word order probabilities\n",
        "- needs a manually tagged corpus for machine learning  \n",
        "Note: *this is not parsing!*  \n",
        "\n",
        "설명: Parsing은 문장 구조를 찾아내는 것이고,  \n",
        "POS 태깅 자체는 형태소를 찾아내는 즉, 토큰에 대해서 품사를 할당하는 것이 주 목적입니다."
      ],
      "metadata": {
        "id": "UyNAmGOHoLzs"
      }
    },
    {
      "cell_type": "markdown",
      "source": [
        "### POS Tagging Algorithms\n",
        "#### < Fundamentals >\n",
        "POS-Tagging generally requires:  \n",
        "`Training phase` where a **manually annotated** corpus is processed by a machine learning algorithm; and a  \n",
        "`Tagging algorithm` that processes texts using learned parameters.  \n",
        "Performance is generally good (around 96%) when staying in the same domain.  \n",
        "\n",
        "#### < Algorithms used in POS-Tagging >\n",
        "There is a multitude of approaches, commonly used are:  \n",
        "- Decision Trees\n",
        "- Hidden Markov Models (HMMs)\n",
        "- Support Vector Machines (SVM)\n",
        "- Transformation-based Taggers (e.g., the **Brill** tagger)  \n",
        "\n",
        "#### < POS Tagging Algorithms >\n",
        "- `Pointwise prediction`: predict each word individually with a classifier (e.g. Maximum Entropy Model, SVM)   \n",
        "\n",
        "  Ex) Natural language processing (NLP) is a field of computer science  \n",
        "\"processing\" = **NN? VBG? JJ?** , \"computer\" = **NN? VBG? JJ?**  \n",
        "\n",
        "- Probabilistic models\n",
        "    - `Generative sequence models`: Find the most probable tag sequence given the sentence (Hidden Markov Model; HMM)  \n",
        "    - `Discriminative sequence models`: Predict whole sequence with a classifier (Conditional Random Field; CRF)  \n",
        "\n",
        "  설명: Pointwise prediction처럼 문장의 '일부'를 input으로 받는 것이 아니라 문장 전체를 받습니다. 단, 이 둘 사이의 차이는 Generative sequence models의 경우 첫번째 토큰에 대한 POS 태깅을 달고, 그 다음에 두 번째, 세 번째 이렇게 순차적으로 할당하는($w_1➞w_2➞w_3$...) 반면에 Discriminative sequence models의 경우는 각각에 단어들에 대한 토큰을 일괄적으로 예측($w_1,w_1,w_3$)을 하는 모델입니다.\n",
        " \n",
        "- Neural network-based models"
      ],
      "metadata": {
        "id": "u6ZW3KrKoL2X"
      }
    },
    {
      "cell_type": "code",
      "execution_count": null,
      "metadata": {
        "id": "Wk1ZpSdYoJle"
      },
      "outputs": [],
      "source": [
        ""
      ]
    }
  ]
}