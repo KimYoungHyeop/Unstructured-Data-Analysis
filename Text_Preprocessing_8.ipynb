{
  "nbformat": 4,
  "nbformat_minor": 0,
  "metadata": {
    "colab": {
      "name": "Text_Preprocessing_8.ipynb",
      "provenance": [],
      "collapsed_sections": []
    },
    "kernelspec": {
      "name": "python3",
      "display_name": "Python 3"
    },
    "language_info": {
      "name": "python"
    }
  },
  "cells": [
    {
      "cell_type": "markdown",
      "source": [
        "## < Lexical Analysis 5: Named Entity Recognition>\n",
        "### Named Entity Recognition: NER\n",
        "- a subtask of information extraction that seeks to **locate and classify elements in text into pre-defined categories** such as the names of persons, organizations, locations, expressios of times, quantities, monetary value, percentages, etc."
      ],
      "metadata": {
        "id": "103bmzXIpWLz"
      }
    },
    {
      "cell_type": "markdown",
      "source": [
        "### Approaches for NER: Dictionary/Rule-based\n",
        "- `List lookup`: systems that recognizes only entities stored in its lists\n",
        "    - Advantages: simple, fast, language independent, easy to retarget.\n",
        "    - Disadvantages: collection and maintenance of list cannot deal with name variants and cannot resolve ambiguity   \n",
        "\n",
        "- `Shallow Parsing Approach`\n",
        "    - Internal evidence - names often have internal structure. These components can be either stored or guessed.\n",
        "        - Location: Cap Word + {street, Boulevard, Avenue, Crescent, Road}\n",
        "        - e.g.:Wall Street"
      ],
      "metadata": {
        "id": "duOi7JCvpXyS"
      }
    },
    {
      "cell_type": "markdown",
      "source": [
        "### Approaches for NER: Model-based\n",
        "- `MITIE`\n",
        "    - An open sourced information extraction tool developed by MIT NLP lab.\n",
        "    - Available for English and Spanish\n",
        "    - Available for C++, Java, R, and Python\n",
        "\n",
        "- `CRF++`\n",
        "    - NER based on conditional random fields\n",
        "    - Supports multi-language models\n",
        "\n",
        "- `Convolutional neural networks`\n",
        "    - I-of-M coding, Word2Vec, N-Grams can be used as encoding methods"
      ],
      "metadata": {
        "id": "NY0x8JjgpX04"
      }
    },
    {
      "cell_type": "markdown",
      "source": [
        "## < BERT for Multi NLP Tasks>  \n",
        "\n",
        "하나의 자연어 처리 task를 위한 모델을 만드는 것이 아니라 멀티 NLP task를 만들면 좋겠다.  \n",
        "즉, NER, POS Tagging, Sentiment analysis 등 여러 개의 task를 할 수 있는 구조를 만드는 겁니다."
      ],
      "metadata": {
        "id": "yTejDb6XpX3g"
      }
    },
    {
      "cell_type": "markdown",
      "source": [
        "### Google Transformer\n",
        "Excellent blog post explaining Transformer\n",
        "- http://jalammar.github.io/illustrated-transformer/"
      ],
      "metadata": {
        "id": "qXkyyO6lpX52"
      }
    },
    {
      "cell_type": "markdown",
      "source": [
        "### BERT  \n",
        "뒤에서 자세히 설명합니다."
      ],
      "metadata": {
        "id": "xDreYLsDpX8a"
      }
    },
    {
      "cell_type": "code",
      "execution_count": null,
      "metadata": {
        "id": "WQQ30UB-pUtw"
      },
      "outputs": [],
      "source": [
        ""
      ]
    }
  ]
}